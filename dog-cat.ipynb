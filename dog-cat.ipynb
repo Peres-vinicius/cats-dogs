{
 "cells": [
  {
   "cell_type": "markdown",
   "id": "8e623586",
   "metadata": {},
   "source": [
    "## IMPORT"
   ]
  },
  {
   "cell_type": "code",
   "execution_count": 1,
   "id": "c20f050f",
   "metadata": {},
   "outputs": [],
   "source": [
    "import warnings\n",
    "import numpy                    as np\n",
    "from keras.models               import Sequential\n",
    "from keras.layers               import Conv2D, MaxPooling2D, Flatten, Dense, Dropout\n",
    "from keras.layers.normalization import BatchNormalization\n",
    "from keras.preprocessing.image  import ImageDataGenerator\n",
    "from keras.preprocessing        import image\n",
    "\n",
    "\n",
    "warnings.filterwarnings(\"ignore\", category=DeprecationWarning)"
   ]
  },
  {
   "cell_type": "markdown",
   "id": "059905c9",
   "metadata": {},
   "source": [
    "#### CLASSE PARA CRIAR O MODELO"
   ]
  },
  {
   "cell_type": "code",
   "execution_count": 2,
   "id": "7638fca5",
   "metadata": {},
   "outputs": [],
   "source": [
    "# Criação da classe junto com os métodos necessários, como fit, predict e save. \n",
    "# Além da preparação de imagens para ser usada no modelo.\n",
    "class Model():\n",
    "    def __init__(self):\n",
    "        self.clf = Sequential()\n",
    "        self.clf.add(Conv2D(32, (3,3), input_shape = (64, 64, 3), activation = 'relu'))\n",
    "        self.clf.add(BatchNormalization())\n",
    "        self.clf.add(MaxPooling2D(pool_size = (2, 2)))\n",
    "\n",
    "        self.clf.add(Conv2D(32, (3,3), input_shape = (64, 64, 3), activation = 'relu'))\n",
    "        self.clf.add(BatchNormalization())\n",
    "        self.clf.add(MaxPooling2D(pool_size = (2, 2)))\n",
    "        \n",
    "        self.clf.add(Flatten())\n",
    "        self.clf.add(Dense(units = 128, activation='relu'))\n",
    "        self.clf.add(Dropout(0.2))\n",
    "        self.clf.add(Dense(units = 128, activation='relu'))\n",
    "        self.clf.add(Dropout(0.2))\n",
    "        self.clf.add(Dense(units = 128, activation='relu'))\n",
    "        self.clf.add(Dropout(0.2))\n",
    "        self.clf.add(Dense(units = 1, activation = 'sigmoid'))\n",
    "    \n",
    "        self.clf.compile(optimizer = 'adam', loss = 'binary_crossentropy', metrics = ['accuracy'])\n",
    "    \n",
    "    def data_prepare(self):\n",
    "        training_generator = ImageDataGenerator(rescale = 1./255,\n",
    "                                        rotation_range = 7,\n",
    "                                        horizontal_flip = True,\n",
    "                                        shear_range = 0.2,\n",
    "                                        height_shift_range = 0.07,\n",
    "                                        zoom_range = 0.2)\n",
    "\n",
    "        test_generator = ImageDataGenerator(rescale = 1./255)\n",
    "        \n",
    "        base_training = training_generator.flow_from_directory('dataset/training_set', \n",
    "                                                          target_size = (64, 64),\n",
    "                                                          batch_size = 2,\n",
    "                                                          class_mode = 'binary')\n",
    "        base_test = test_generator.flow_from_directory('dataset/test_set', target_size = (64, 64),\n",
    "                                                          batch_size = 2,\n",
    "                                               class_mode = 'binary')\n",
    "        return (base_training, base_test)\n",
    "        \n",
    "    def to_train(self, base_training, base_test):\n",
    "        self.clf.fit(base_training, epochs = 10, validation_data = base_test)\n",
    "    \n",
    "    def save(self, path):\n",
    "        self.clf.save(r'{}'.format(path))\n",
    "    \n",
    "    def predict(self, path):\n",
    "        img_test = image.load_img('{}'.format(path), target_size = (64, 64))\n",
    "        img_test = image.img_to_array(img_test)\n",
    "        img_test /= 255\n",
    "        img_test = np.expand_dims(img_test, axis = 0)\n",
    "        prev = self.clf.predict(img_test)\n",
    "        if prev >= 0.5:\n",
    "            return 'Cat'\n",
    "        else:\n",
    "            return 'Dog'"
   ]
  },
  {
   "cell_type": "code",
   "execution_count": 3,
   "id": "bde55de5",
   "metadata": {},
   "outputs": [
    {
     "name": "stdout",
     "output_type": "stream",
     "text": [
      "Found 8000 images belonging to 2 classes.\n",
      "Found 2000 images belonging to 2 classes.\n"
     ]
    }
   ],
   "source": [
    "model = Model()\n",
    "base_training, base_test = model.data_prepare()"
   ]
  },
  {
   "cell_type": "code",
   "execution_count": 4,
   "id": "d0b02695",
   "metadata": {},
   "outputs": [
    {
     "name": "stdout",
     "output_type": "stream",
     "text": [
      "Epoch 1/10\n",
      "4000/4000 [==============================] - 70s 18ms/step - loss: 0.7553 - accuracy: 0.5615 - val_loss: 0.6531 - val_accuracy: 0.6265\n",
      "Epoch 2/10\n",
      "4000/4000 [==============================] - 65s 16ms/step - loss: 0.6556 - accuracy: 0.6260 - val_loss: 0.6235 - val_accuracy: 0.6670\n",
      "Epoch 3/10\n",
      "4000/4000 [==============================] - 65s 16ms/step - loss: 0.6363 - accuracy: 0.6519 - val_loss: 0.5791 - val_accuracy: 0.7155\n",
      "Epoch 4/10\n",
      "4000/4000 [==============================] - 68s 17ms/step - loss: 0.6134 - accuracy: 0.6771 - val_loss: 0.6575 - val_accuracy: 0.6915\n",
      "Epoch 5/10\n",
      "4000/4000 [==============================] - 76s 19ms/step - loss: 0.5910 - accuracy: 0.6967 - val_loss: 0.5560 - val_accuracy: 0.7255\n",
      "Epoch 6/10\n",
      "4000/4000 [==============================] - 74s 19ms/step - loss: 0.5767 - accuracy: 0.7151 - val_loss: 0.5503 - val_accuracy: 0.7280\n",
      "Epoch 7/10\n",
      "4000/4000 [==============================] - 74s 18ms/step - loss: 0.5552 - accuracy: 0.7230 - val_loss: 0.5663 - val_accuracy: 0.7535\n",
      "Epoch 8/10\n",
      "4000/4000 [==============================] - 73s 18ms/step - loss: 0.5459 - accuracy: 0.7314 - val_loss: 0.5993 - val_accuracy: 0.7545\n",
      "Epoch 9/10\n",
      "4000/4000 [==============================] - 87s 22ms/step - loss: 0.5280 - accuracy: 0.7504 - val_loss: 0.6280 - val_accuracy: 0.7430\n",
      "Epoch 10/10\n",
      "4000/4000 [==============================] - 92s 23ms/step - loss: 0.5227 - accuracy: 0.7446 - val_loss: 0.5543 - val_accuracy: 0.7675\n"
     ]
    }
   ],
   "source": [
    "model.to_train(base_training, base_test)"
   ]
  },
  {
   "cell_type": "code",
   "execution_count": 5,
   "id": "c9a26e19",
   "metadata": {},
   "outputs": [
    {
     "name": "stdout",
     "output_type": "stream",
     "text": [
      "Cat\n"
     ]
    }
   ],
   "source": [
    "# teste para uma imagem. É passado o caminho da imagem\n",
    "print(model.predict('dataset/test_set/gato/cat.4031.jpg'))"
   ]
  },
  {
   "cell_type": "code",
   "execution_count": 8,
   "id": "a2f6e31c",
   "metadata": {},
   "outputs": [
    {
     "name": "stdout",
     "output_type": "stream",
     "text": [
      "INFO:tensorflow:Assets written to: C:\\Users\\vinic\\Desktop\\estudo\\programacao\\python\\projetos_ML\\cats-and-dogs\\assets\n"
     ]
    }
   ],
   "source": [
    "# salvando o modelo. É necessário inserir o caminho.\n",
    "path = r'C:\\Users\\vinic\\Desktop\\estudo\\programacao\\python\\projetos_ML\\cats-and-dogs'\n",
    "model.save(path)"
   ]
  },
  {
   "cell_type": "code",
   "execution_count": null,
   "id": "69757716",
   "metadata": {},
   "outputs": [],
   "source": []
  }
 ],
 "metadata": {
  "kernelspec": {
   "display_name": "Python 3",
   "language": "python",
   "name": "python3"
  },
  "language_info": {
   "codemirror_mode": {
    "name": "ipython",
    "version": 3
   },
   "file_extension": ".py",
   "mimetype": "text/x-python",
   "name": "python",
   "nbconvert_exporter": "python",
   "pygments_lexer": "ipython3",
   "version": "3.8.8"
  }
 },
 "nbformat": 4,
 "nbformat_minor": 5
}
