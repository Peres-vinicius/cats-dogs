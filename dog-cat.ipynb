{
 "cells": [
  {
   "cell_type": "markdown",
   "id": "62e87c7b",
   "metadata": {},
   "source": [
    "## IMPORT"
   ]
  },
  {
   "cell_type": "code",
   "execution_count": null,
   "id": "c20f050f",
   "metadata": {},
   "outputs": [],
   "source": [
    "import warnings\n",
    "import numpy                    as np\n",
    "from keras.models               import Sequential\n",
    "from keras.layers               import Conv2D, MaxPooling2D, Flatten, Dense, Dropout\n",
    "from keras.layers.normalization import BatchNormalization\n",
    "from keras.preprocessing.image  import ImageDataGenerator\n",
    "from keras.preprocessing        import image\n",
    "\n",
    "\n",
    "warnings.filterwarnings(\"ignore\", category=DeprecationWarning)"
   ]
  },
  {
   "cell_type": "markdown",
   "id": "8387a1e0",
   "metadata": {},
   "source": [
    "#### CLASSE PARA CRIAR O MODELO"
   ]
  },
  {
   "cell_type": "code",
   "execution_count": null,
   "id": "7638fca5",
   "metadata": {},
   "outputs": [],
   "source": [
    "# Criação da classe junto com os métodos necessários, como fit, predict e save. \n",
    "# Além da preparação de imagens para ser usada no modelo.\n",
    "class Model():\n",
    "    def __init__(self):\n",
    "        self.clf = Sequential()\n",
    "        self.clf.add(Conv2D(32, (3,3), input_shape = (64, 64, 3), activation = 'relu'))\n",
    "        self.clf.add(BatchNormalization())\n",
    "        self.clf.add(MaxPooling2D(pool_size = (2, 2)))\n",
    "\n",
    "        self.clf.add(Conv2D(32, (3,3), input_shape = (64, 64, 3), activation = 'relu'))\n",
    "        self.clf.add(BatchNormalization())\n",
    "        self.clf.add(MaxPooling2D(pool_size = (2, 2)))\n",
    "        \n",
    "        self.clf.add(Flatten())\n",
    "        self.clf.add(Dense(units = 128, activation='relu'))\n",
    "        self.clf.add(Dropout(0.2))\n",
    "        self.clf.add(Dense(units = 128, activation='relu'))\n",
    "        self.clf.add(Dropout(0.2))\n",
    "        self.clf.add(Dense(units = 128, activation='relu'))\n",
    "        self.clf.add(Dropout(0.2))\n",
    "        self.clf.add(Dense(units = 1, activation = 'sigmoid'))\n",
    "    \n",
    "        self.clf.compile(optimizer = 'adam', loss = 'binary_crossentropy', metrics = ['accuracy'])\n",
    "    \n",
    "    def data_prepare(self):\n",
    "        training_generator = ImageDataGenerator(rescale = 1./255,\n",
    "                                        rotation_range = 7,\n",
    "                                        horizontal_flip = True,\n",
    "                                        shear_range = 0.2,\n",
    "                                        height_shift_range = 0.07,\n",
    "                                        zoom_range = 0.2)\n",
    "\n",
    "        test_generator = ImageDataGenerator(rescale = 1./255)\n",
    "        \n",
    "        base_training = training_generator.flow_from_directory('dataset/training_set', \n",
    "                                                          target_size = (64, 64),\n",
    "                                                          batch_size = 2,\n",
    "                                                          class_mode = 'binary')\n",
    "        base_test = test_generator.flow_from_directory('dataset/test_set', target_size = (64, 64),\n",
    "                                                          batch_size = 2,\n",
    "                                               class_mode = 'binary')\n",
    "        return (base_training, base_test)\n",
    "        \n",
    "    def to_train(self, base_training, base_test):\n",
    "        self.clf.fit(base_training, epochs = 10, validation_data = base_test)\n",
    "    \n",
    "    def save(self, path):\n",
    "        self.clf.save(r'{}'.format(path))\n",
    "    \n",
    "    def predict(self, path):\n",
    "        img_test = image.load_img('{}'.format(path), target_size = (64, 64))\n",
    "        img_test = image.img_to_array(img_test)\n",
    "        img_test /= 255\n",
    "        img_test = np.expand_dims(img_test, axis = 0)\n",
    "        prev = self.clf.predict(img_test)\n",
    "        if prev >= 0.5:\n",
    "            return 'Cat'\n",
    "        else:\n",
    "            return 'Dog'"
   ]
  },
  {
   "cell_type": "code",
   "execution_count": null,
   "id": "bde55de5",
   "metadata": {},
   "outputs": [],
   "source": [
    "model = Model()\n",
    "base_training, base_test = model.data_prepare()"
   ]
  },
  {
   "cell_type": "code",
   "execution_count": null,
   "id": "d0b02695",
   "metadata": {},
   "outputs": [],
   "source": [
    "model.to_train(base_training, base_test)"
   ]
  },
  {
   "cell_type": "code",
   "execution_count": null,
   "id": "a2f6e31c",
   "metadata": {},
   "outputs": [],
   "source": [
    "# salvando o modelo. É necessário inserir o caminho.\n",
    "path = r''\n",
    "model.save(path)"
   ]
  },
  {
   "cell_type": "code",
   "execution_count": null,
   "id": "84b558e3",
   "metadata": {},
   "outputs": [],
   "source": []
  }
 ],
 "metadata": {
  "kernelspec": {
   "display_name": "Python 3",
   "language": "python",
   "name": "python3"
  },
  "language_info": {
   "codemirror_mode": {
    "name": "ipython",
    "version": 3
   },
   "file_extension": ".py",
   "mimetype": "text/x-python",
   "name": "python",
   "nbconvert_exporter": "python",
   "pygments_lexer": "ipython3",
   "version": "3.8.8"
  }
 },
 "nbformat": 4,
 "nbformat_minor": 5
}
